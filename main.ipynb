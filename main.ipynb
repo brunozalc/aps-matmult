{
 "cells": [
  {
   "attachments": {},
   "cell_type": "markdown",
   "metadata": {},
   "source": [
    "# APS - otimização por vetor gradiente\n",
    "\n",
    "Bruno Zalcberg, Humberto Filho e Rafael Paves\n",
    "\n",
    "Maio/2023"
   ]
  },
  {
   "attachments": {},
   "cell_type": "markdown",
   "metadata": {},
   "source": [
    "#### **1a etapa:** \n",
    "\n",
    "$$\n",
    "f(x, y) = x^2 + xy + 4y^2 - x + 3y\n",
    "$$"
   ]
  },
  {
   "attachments": {},
   "cell_type": "markdown",
   "metadata": {},
   "source": [
    "##### a) Construa o gráfico de 𝑓 no GeoGebra e observe que 𝑓 possui um único ponto de mínimo e não possui pontos de máximo"
   ]
  },
  {
   "attachments": {},
   "cell_type": "markdown",
   "metadata": {},
   "source": [
    "![Gráfico no GeoGebra](etapa1.png)"
   ]
  },
  {
   "attachments": {},
   "cell_type": "markdown",
   "metadata": {},
   "source": [
    "##### b) Determine o vetor gradiente de 𝑓 em um ponto genérico (𝑥, 𝑦)"
   ]
  },
  {
   "attachments": {},
   "cell_type": "markdown",
   "metadata": {},
   "source": [
    "As derivadas parciais dessa função são dadas por: \n",
    "\n",
    "$$\\frac{\\partial f}{\\partial x} = 2x + y - 1$$\n",
    "$$\\frac{\\partial f}{\\partial y} = x + 8y + 3$$\n",
    "\n",
    "Dessa forma, o vetor gradiente em um ponto genérico $(x, y)$ é:\n",
    "\n",
    "$$\\nabla f = \\begin{bmatrix} 2x + y - 1 \\\\ x + 8y + 3 \\end{bmatrix}$$"
   ]
  },
  {
   "attachments": {},
   "cell_type": "markdown",
   "metadata": {},
   "source": [
    "##### c) Usando as ideias desenvolvidas na página anterior, elabore um código que permita determinar o ponto de mínimo da função 𝑓. Utilize um passo fixo 𝛼 = 0,1 e a estimativa inicial (𝑥0, 𝑦0) = (0, 0). A precisão do cálculo deverá ser de $10^{-5}$"
   ]
  },
  {
   "cell_type": "code",
   "execution_count": 1,
   "metadata": {},
   "outputs": [
    {
     "name": "stdout",
     "output_type": "stream",
     "text": [
      "O mínimo da função ocorre em: x = 0.7333283951859033 e y = -0.4666658653156561, sendo alfa = 0.1. O número de iterações foi 60.\n",
      "O mínimo da função ocorre em: x = 0.7333283951859033 e y = -0.4666658653156561, sendo alfa = 0.15. O número de iterações foi 1.\n",
      "O mínimo da função ocorre em: x = 0.7333283951859033 e y = -0.4666658653156561, sendo alfa = 0.2. O número de iterações foi 1.\n",
      "O mínimo da função ocorre em: x = 0.7333283951859033 e y = -0.4666658653156561, sendo alfa = 0.3. O número de iterações foi 1.\n",
      "O mínimo da função ocorre em: x = 0.7333283951859033 e y = -0.4666658653156561, sendo alfa = 0.5. O número de iterações foi 1.\n"
     ]
    }
   ],
   "source": [
    "import numpy as np\n",
    "\n",
    "def gradiente(x, y):\n",
    "    return np.array([2*x + y - 1, x + 8*y + 3])\n",
    "\n",
    "alfa = [0.1, 0.15, 0.2, 0.3, 0.5]\n",
    "precisao = 1e-5\n",
    "p = np.array([0, 0])\n",
    "\n",
    "for a in alfa:\n",
    "    steps = 1\n",
    "    while np.linalg.norm(gradiente(p[0], p[1])) > precisao:\n",
    "        p = p - a * gradiente(p[0], p[1])\n",
    "        steps += 1\n",
    "    print(f\"O mínimo da função ocorre em: x = {p[0]} e y = {p[1]}, sendo alfa = {a}. O número de iterações foi {steps}.\")\n"
   ]
  },
  {
   "attachments": {},
   "cell_type": "markdown",
   "metadata": {},
   "source": [
    "#### **2a etapa:** \n",
    "\n",
    "$$\n",
    "\\sqrt{x^2 + y^2 + 2} + x^2 e^{-y^2} + (x - 3)^2\n",
    "$$\n"
   ]
  },
  {
   "cell_type": "code",
   "execution_count": 2,
   "metadata": {},
   "outputs": [
    {
     "name": "stdout",
     "output_type": "stream",
     "text": [
      "Para o ponto inicial [1 1] e alpha = 0.05, o mínimo da função ocorre em: x = 2.58045, y = 1.96274, sendo o número de iterações 154.\n",
      "Para o ponto inicial [1 1] e alpha = 0.1, o mínimo da função ocorre em: x = 2.58045, y = 1.96274, sendo o número de iterações 74.\n",
      "Para o ponto inicial [1 1] e alpha = 0.15, o mínimo da função ocorre em: x = 2.58045, y = 1.96274, sendo o número de iterações 47.\n",
      "Para o ponto inicial [1 1] e alpha = 0.2, o mínimo da função ocorre em: x = 2.58045, y = 1.96275, sendo o número de iterações 34.\n",
      "Para o ponto inicial [1 1] e alpha = 0.3, o mínimo da função ocorre em: x = 2.58045, y = 1.96274, sendo o número de iterações 20.\n",
      "Para o ponto inicial [1 1] e alpha = 0.5, o mínimo da função ocorre em: x = 2.58045, y = 1.96275, sendo o número de iterações 11.\n",
      "Para o ponto inicial [-1 -1] e alpha = 0.05, o mínimo da função ocorre em: x = 2.58045, y = -1.96274, sendo o número de iterações 162.\n",
      "Para o ponto inicial [-1 -1] e alpha = 0.1, o mínimo da função ocorre em: x = 2.58045, y = -1.96274, sendo o número de iterações 77.\n",
      "Para o ponto inicial [-1 -1] e alpha = 0.15, o mínimo da função ocorre em: x = 2.58045, y = -1.96274, sendo o número de iterações 49.\n",
      "Para o ponto inicial [-1 -1] e alpha = 0.2, o mínimo da função ocorre em: x = 2.58045, y = -1.96275, sendo o número de iterações 35.\n",
      "Para o ponto inicial [-1 -1] e alpha = 0.3, o mínimo da função ocorre em: x = 2.58045, y = -1.96274, sendo o número de iterações 20.\n",
      "Para o ponto inicial [-1 -1] e alpha = 0.5, o mínimo da função ocorre em: x = 2.58045, y = -1.96275, sendo o número de iterações 18.\n"
     ]
    }
   ],
   "source": [
    "import numpy as np\n",
    "\n",
    "def g(x, y):\n",
    "    return np.sqrt(x**2 + y**2 + 2) + x**2 * np.exp(-y**2) + (x - 3)**2\n",
    "\n",
    "def gradiente(x, y):\n",
    "    dgdx = x * ((1 / np.sqrt(x**2 + y**2 + 2)) + 2*np.exp(-y**2) + 2) - 6\n",
    "    dgdy = y * ((1 / np.sqrt(x**2 + y**2 + 2)) - 2*x**2 * np.exp(-y**2))\n",
    "    return np.array([dgdx, dgdy])\n",
    "\n",
    "def algoritmo(p_inicial, alfa, precisao, max_iter=10000):\n",
    "    iter = 0\n",
    "    p = p_inicial\n",
    "    while np.linalg.norm(gradiente(p[0], p[1])) > precisao:\n",
    "        p = p - alfa * gradiente(p[0], p[1])\n",
    "        iter += 1\n",
    "        if iter > max_iter:\n",
    "            break\n",
    "    return p, iter\n",
    "\n",
    "# Pontos iniciais\n",
    "p_iniciais = [np.array([1, 1]), np.array([-1, -1])]\n",
    "\n",
    "# Valores de alpha\n",
    "alfas = [0.05, 0.1, 0.15, 0.2, 0.3, 0.5]\n",
    "\n",
    "# Precisão\n",
    "precisao = 1e-5\n",
    "\n",
    "for i, p_inicial in enumerate(p_iniciais):\n",
    "    for alfa in alfas:\n",
    "        x_min, steps = algoritmo(p_inicial, alfa, precisao)\n",
    "        if steps > 10000:\n",
    "            print(f'Para o ponto inicial {p_inicial} e alpha = {alfa}, o algoritmo não convergiu dentro de 10000 iterações.')\n",
    "        else:\n",
    "            print(f'Para o ponto inicial {p_inicial} e alpha = {alfa}, o mínimo da função ocorre em: x = {x_min[0]:.5f}, y = {x_min[1]:.5f}, sendo o número de iterações {steps}.')\n",
    "\n"
   ]
  },
  {
   "attachments": {},
   "cell_type": "markdown",
   "metadata": {},
   "source": [
    "Os dois pontos encontrados foram, aproximadamente: $(2,58044; 1,96274)$ e $(2,58044; -1,96274)$"
   ]
  },
  {
   "attachments": {},
   "cell_type": "markdown",
   "metadata": {},
   "source": [
    "Os dois pontos de mínimo foram obtidos escolhendo diferentes pontos iniciais. O primeiro ponto inicial escolhido foi (1, 1) e o segundo ponto inicial foi (-1, -1). Ao executar o algoritmo a partir desses dois pontos, conseguimos convergir para dois diferentes mínimos locais. A única modificação necessária no código para encontrar o segundo ponto de mínimo foi a alteração do ponto inicial. \n",
    "\n",
    "A execução do código nos mostra um aspecto importante dessa técnica: o ponto inicial pode afetar significativamente o resultado final. Dependendo de qual ponto escolhemos começar, podemos acabar em diferentes mínimos locais. Isso ocorre porque o algoritmo move-se na direção do mínimo local mais próximo. Por exemplo, se escolhermos o ponto inicial (0, 0), ou até mesmo o ponto (10, 0):\n",
    "\n"
   ]
  },
  {
   "cell_type": "code",
   "execution_count": 3,
   "metadata": {},
   "outputs": [
    {
     "name": "stdout",
     "output_type": "stream",
     "text": [
      "Para o ponto inicial [0 0] e alpha = 0.05, o mínimo da função ocorre em: x = 1.32881, y = 0.00000, sendo o número de iterações 55.\n",
      "Para o ponto inicial [0 0] e alpha = 0.1, o mínimo da função ocorre em: x = 1.32881, y = 0.00000, sendo o número de iterações 24.\n",
      "Para o ponto inicial [0 0] e alpha = 0.15, o mínimo da função ocorre em: x = 1.32881, y = 0.00000, sendo o número de iterações 13.\n",
      "Para o ponto inicial [0 0] e alpha = 0.2, o mínimo da função ocorre em: x = 1.32881, y = 0.00000, sendo o número de iterações 7.\n",
      "Para o ponto inicial [0 0] e alpha = 0.3, o mínimo da função ocorre em: x = 1.32881, y = 0.00000, sendo o número de iterações 11.\n",
      "Para o ponto inicial [0 0] e alpha = 0.5, o algoritmo não convergiu dentro de 10000 iterações.\n",
      "Para o ponto inicial [10  0] e alpha = 0.05, o mínimo da função ocorre em: x = 1.32881, y = 0.00000, sendo o número de iterações 64.\n",
      "Para o ponto inicial [10  0] e alpha = 0.1, o mínimo da função ocorre em: x = 1.32881, y = 0.00000, sendo o número de iterações 28.\n",
      "Para o ponto inicial [10  0] e alpha = 0.15, o mínimo da função ocorre em: x = 1.32881, y = 0.00000, sendo o número de iterações 16.\n",
      "Para o ponto inicial [10  0] e alpha = 0.2, o mínimo da função ocorre em: x = 1.32881, y = 0.00000, sendo o número de iterações 9.\n",
      "Para o ponto inicial [10  0] e alpha = 0.3, o mínimo da função ocorre em: x = 1.32881, y = 0.00000, sendo o número de iterações 12.\n",
      "Para o ponto inicial [10  0] e alpha = 0.5, o algoritmo não convergiu dentro de 10000 iterações.\n"
     ]
    }
   ],
   "source": [
    "p_iniciais = [np.array([0, 0]), np.array([10, 0])]\n",
    "\n",
    "for i, p_inicial in enumerate(p_iniciais):\n",
    "    for alfa in alfas:\n",
    "        x_min, steps = algoritmo(p_inicial, alfa, precisao)\n",
    "        if steps > 10000:\n",
    "            print(f'Para o ponto inicial {p_inicial} e alpha = {alfa}, o algoritmo não convergiu dentro de 10000 iterações.')\n",
    "        else:\n",
    "            print(f'Para o ponto inicial {p_inicial} e alpha = {alfa}, o mínimo da função ocorre em: x = {x_min[0]:.5f}, y = {x_min[1]:.5f}, sendo o número de iterações {steps}.')"
   ]
  },
  {
   "attachments": {},
   "cell_type": "markdown",
   "metadata": {},
   "source": [
    "Esse é um caso muito interessante, pois o ponto (0, 0) se encontra numa posição que praticamente equidista dos dois mínimos locais da função. Dessa forma, o algoritmo falha, pois náo consegue deduzir com precisão para onde deve convergir. Veja:"
   ]
  },
  {
   "attachments": {},
   "cell_type": "markdown",
   "metadata": {},
   "source": [
    "![Equidistância!](etapa2.png)"
   ]
  },
  {
   "attachments": {},
   "cell_type": "markdown",
   "metadata": {},
   "source": [
    "Nesse caso, para qualquer y = 0 o algoritmo falhará, pois se enxerga essa \"equidistância\"."
   ]
  },
  {
   "attachments": {},
   "cell_type": "markdown",
   "metadata": {},
   "source": [
    "Além disso, observamos que o tamanho do passo desempenha um papel importante. Usamos vários valores para o tamanho do passo, sendo eles 0,05; 0,1; 0,15; 0,2; 0,3 e 0,5. Quando o tamanho do passo é muito grande, o algoritmo pode falhar. Isso ocorre porque, com um passo grande, podemos acabar pulando o mínimo e oscilando ao redor dele. Por outro lado, quando o tamanho do passo era muito pequeno, embora se mantenha uma maior precisão, o algoritmo convergia mais lentamente. Portanto, escolher um bom tamanho de passo é essencial para o bom desempenho do código.\n",
    "\n",
    "Assim, podemos considerar que é preciso ter cuidado ao escolher o ponto inicial e o tamanho do passo, já que ambos podem afetar significativamente a eficácia do algoritmo."
   ]
  },
  {
   "attachments": {},
   "cell_type": "markdown",
   "metadata": {},
   "source": [
    "#### **3a etapa:** \n",
    "\n",
    "$$\n",
    "4e^{-x^2-y^2} + 3e^{-x^2-y^2+4x+6y-13} - \\frac{x^2}{5} - \\frac{y^2}{4} + 2\n",
    "$$"
   ]
  },
  {
   "cell_type": "code",
   "execution_count": 4,
   "metadata": {},
   "outputs": [
    {
     "data": {
      "image/png": "[encoded data removed]",
      "text/plain": [
       "<Figure size 432x288 with 1 Axes>"
      ]
     },
     "metadata": {
      "needs_background": "light"
     },
     "output_type": "display_data"
    },
    {
     "name": "stdout",
     "output_type": "stream",
     "text": [
      "Para o ponto inicial [5 5] e alpha = 0.05, o máximo da função ocorre em: x = 1.86527, y = 2.75158, sendo o número de iterações 63.\n",
      "Para o ponto inicial [5 5] e alpha = 0.1, o máximo da função ocorre em: x = 1.86527, y = 2.75158, sendo o número de iterações 28.\n",
      "Para o ponto inicial [5 5] e alpha = 0.15, o máximo da função ocorre em: x = 1.86527, y = 2.75157, sendo o número de iterações 15.\n",
      "Para o ponto inicial [5 5] e alpha = 0.2, o máximo da função ocorre em: x = 1.86527, y = 2.75157, sendo o número de iterações 13.\n",
      "Para o ponto inicial [5 5] e alpha = 0.3, o máximo da função ocorre em: x = 1.86527, y = 2.75157, sendo o número de iterações 52.\n",
      "Para o ponto inicial [5 5] e alpha = 0.5, o algoritmo não convergiu dentro de 10000 iterações.\n",
      "Para o ponto inicial [ 0 -1] e alpha = 0.05, o máximo da função ocorre em: x = 0.00000, y = 0.00000, sendo o número de iterações 27.\n",
      "Para o ponto inicial [ 0 -1] e alpha = 0.1, o máximo da função ocorre em: x = 0.00000, y = 0.00000, sendo o número de iterações 9.\n",
      "Para o ponto inicial [ 0 -1] e alpha = 0.15, o máximo da função ocorre em: x = 0.00000, y = 0.00001, sendo o número de iterações 10.\n",
      "Para o ponto inicial [ 0 -1] e alpha = 0.2, o máximo da função ocorre em: x = 0.00000, y = 0.00000, sendo o número de iterações 35.\n",
      "Para o ponto inicial [ 0 -1] e alpha = 0.3, o algoritmo não convergiu dentro de 10000 iterações.\n",
      "Para o ponto inicial [ 0 -1] e alpha = 0.5, o algoritmo não convergiu dentro de 10000 iterações.\n"
     ]
    }
   ],
   "source": [
    "import numpy as np\n",
    "import matplotlib.pyplot as plt\n",
    "from mpl_toolkits.mplot3d import Axes3D\n",
    "\n",
    "def h(x, y):\n",
    "    return 4*np.exp(-x**2 - y**2) + 3*np.exp(-x**2 - y**2 + 4*x + 6*y -13) - (x**2 / 5) - (y**2 / 4) + 2\n",
    "\n",
    "\n",
    "def gradiente(x, y):\n",
    "    dhdx = -8*x*np.exp(-x**2 - y**2) - (2*x / 5) - 6*(x - 2)*np.exp(-x**2 + 4*x - y**2 + 6*y - 13)\n",
    "    dhdy = -8*y*np.exp(-x**2 - y**2) - (y / 2) - 6*(y - 3)*np.exp(-x**2 + 4*x - y**2 + 6*y - 13)\n",
    "    return np.array([dhdx, dhdy])\n",
    "    \n",
    "\n",
    "# gráfico da função\n",
    "x = np.linspace(-5, 5, 100)\n",
    "y = np.linspace(-5, 5, 100)\n",
    "\n",
    "X, Y = np.meshgrid(x, y)\n",
    "Z = h(X, Y)\n",
    "\n",
    "fig = plt.figure()\n",
    "ax = fig.add_subplot(111, projection='3d')\n",
    "ax.plot_surface(X, Y, Z, cmap='inferno')\n",
    "\n",
    "plt.show()\n",
    "\n",
    "# vamos encontrar os pontos máximos\n",
    "def algoritmo(p_inicial, alfa, precisao, max_iter=10000):\n",
    "    iter = 0\n",
    "    p = p_inicial\n",
    "    while np.linalg.norm(gradiente(p[0], p[1])) > precisao:\n",
    "        p = p + alfa * gradiente(p[0], p[1])\n",
    "        iter += 1\n",
    "        if iter > max_iter:\n",
    "            break\n",
    "    return p, iter\n",
    "\n",
    "# Pontos iniciais\n",
    "p_iniciais = [np.array([5, 5]), np.array([0, -1])]\n",
    "\n",
    "# Valores de alpha\n",
    "alfas = [0.05, 0.1, 0.15, 0.2, 0.3, 0.5]\n",
    "\n",
    "# Precisão\n",
    "precisao = 1e-5\n",
    "\n",
    "for i, p_inicial in enumerate(p_iniciais):\n",
    "    for alfa in alfas:\n",
    "        x_max, steps = algoritmo(p_inicial, alfa, precisao)\n",
    "        if steps > 10000:\n",
    "            print(f'Para o ponto inicial {p_inicial} e alpha = {alfa}, o algoritmo não convergiu dentro de 10000 iterações.')\n",
    "        else:\n",
    "            print(f'Para o ponto inicial {p_inicial} e alpha = {alfa}, o máximo da função ocorre em: x = {x_max[0]:.5f}, y = {x_max[1]:.5f}, sendo o número de iterações {steps}.')"
   ]
  },
  {
   "attachments": {},
   "cell_type": "markdown",
   "metadata": {},
   "source": [
    "bruh."
   ]
  }
 ],
 "metadata": {
  "kernelspec": {
   "display_name": "Python 3",
   "language": "python",
   "name": "python3"
  },
  "language_info": {
   "codemirror_mode": {
    "name": "ipython",
    "version": 3
   },
   "file_extension": ".py",
   "mimetype": "text/x-python",
   "name": "python",
   "nbconvert_exporter": "python",
   "pygments_lexer": "ipython3",
   "version": "3.10.2"
  },
  "orig_nbformat": 4
 },
 "nbformat": 4,
 "nbformat_minor": 2
}
